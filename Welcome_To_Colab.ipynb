{
  "cells": [
    {
      "cell_type": "markdown",
      "metadata": {
        "id": "view-in-github",
        "colab_type": "text"
      },
      "source": [
        "<a href=\"https://colab.research.google.com/github/macminhtuan131/Code-Practice/blob/main/Welcome_To_Colab.ipynb\" target=\"_parent\"><img src=\"https://colab.research.google.com/assets/colab-badge.svg\" alt=\"Open In Colab\"/></a>"
      ]
    },
    {
      "cell_type": "markdown",
      "source": [
        "# Day 1: Learning Python\n"
      ],
      "metadata": {
        "id": "59t1GpxVrkrw"
      }
    },
    {
      "cell_type": "markdown",
      "source": [
        "# Variables"
      ],
      "metadata": {
        "id": "mkw-9spRssrT"
      }
    },
    {
      "cell_type": "code",
      "source": [
        "\n",
        "#strings\n",
        "first_name = \"Mac\"\n",
        "food = \"pizza\"\n",
        "email = \"Tuan123@fake.com\"\n",
        "print(f\"Hello {first_name}\")\n",
        "print(f\"You like {food}\")\n",
        "print(f\"Your email is: {email}\")\n"
      ],
      "metadata": {
        "id": "0dWuDYU-rqTU",
        "outputId": "8db1395a-a8e3-4f6e-ca9f-23736dd02e3d",
        "colab": {
          "base_uri": "https://localhost:8080/"
        }
      },
      "execution_count": 9,
      "outputs": [
        {
          "output_type": "stream",
          "name": "stdout",
          "text": [
            "Hello Mac\n",
            "You like pizza\n",
            "Your email is: Tuan123@fake.com\n"
          ]
        }
      ]
    },
    {
      "cell_type": "code",
      "source": [
        "#Intergers\n",
        "age = 20\n",
        "quantity = 3\n",
        "\n",
        "print(f\"You are {age} years old\")\n",
        "print(f\"You are buyting {quantity} items\")"
      ],
      "metadata": {
        "id": "u2VMW3QSrlaG",
        "outputId": "d11b7a94-203d-439e-cf07-94c873706378",
        "colab": {
          "base_uri": "https://localhost:8080/"
        }
      },
      "execution_count": 10,
      "outputs": [
        {
          "output_type": "stream",
          "name": "stdout",
          "text": [
            "You are 20 years old\n",
            "You are buyting 3 items\n"
          ]
        }
      ]
    },
    {
      "cell_type": "code",
      "source": [
        "#float\n",
        "price = 10.99\n",
        "gpa = 3.2\n",
        "distance = 5.5\n",
        "\n",
        "print(f\"The price is ${price}\")\n",
        "print(f\"Your gpa is {gpa}\")\n",
        "print(f\"You ran {distance}km\")"
      ],
      "metadata": {
        "id": "x5buNMZDtYFG",
        "outputId": "bbfd8a19-ab6c-4795-ff8b-fae900a7b625",
        "colab": {
          "base_uri": "https://localhost:8080/"
        }
      },
      "execution_count": 11,
      "outputs": [
        {
          "output_type": "stream",
          "name": "stdout",
          "text": [
            "The price is $10.99\n",
            "Your gpa is 3.2\n",
            "You ran 5.5km\n"
          ]
        }
      ]
    },
    {
      "cell_type": "code",
      "source": [
        "#Boolean\n",
        "is_student = True\n",
        "for_sale = False\n",
        "is_online = True\n",
        "\n",
        "print(f\"Are you a student?: {is_student}\")\n",
        "if is_student:\n",
        "  print(\"You are a student\")\n",
        "else:\n",
        "    print(\"You are NOT a student\")\n",
        "if for_sale:\n",
        "    print(\"That item is for sale\")\n",
        "else:\n",
        "    print(\"That item is NOT available\")\n",
        "if is_online:\n",
        "    print(\"You are online\")\n",
        "else:\n",
        "    print(\"You are offline\")"
      ],
      "metadata": {
        "id": "CBd8kP6dttMF",
        "outputId": "535a79c5-acc0-408e-e829-e0e4a50cc820",
        "colab": {
          "base_uri": "https://localhost:8080/"
        }
      },
      "execution_count": 17,
      "outputs": [
        {
          "output_type": "stream",
          "name": "stdout",
          "text": [
            "Are you a student?: True\n",
            "You are a student\n",
            "That item is NOT available\n",
            "You are online\n"
          ]
        }
      ]
    },
    {
      "cell_type": "markdown",
      "source": [
        "# Typecasting"
      ],
      "metadata": {
        "id": "LQz9AyEnvJuI"
      }
    },
    {
      "cell_type": "code",
      "source": [
        "name = \"Tuan Mac\"\n",
        "age = 20\n",
        "gpa = 3.2\n",
        "is_student = True\n",
        "empty = \"\"\n",
        "\n",
        "print(type(is_student))\n",
        "gpa = int(gpa)\n",
        "print(gpa)\n",
        "age = float(age)\n",
        "print(age)\n",
        "age = str(int(age))\n",
        "age += \"1\"\n",
        "print(age)\n",
        "name = bool(name)\n",
        "print(name)\n",
        "empty = bool(empty)\n",
        "print(empty)"
      ],
      "metadata": {
        "id": "y8ZIFAMxvUG0",
        "outputId": "408ea250-35af-434d-b63e-4b1060435eff",
        "colab": {
          "base_uri": "https://localhost:8080/"
        }
      },
      "execution_count": 30,
      "outputs": [
        {
          "output_type": "stream",
          "name": "stdout",
          "text": [
            "<class 'bool'>\n",
            "3\n",
            "20.0\n",
            "201\n",
            "True\n",
            "False\n"
          ]
        }
      ]
    },
    {
      "cell_type": "markdown",
      "source": [
        "# input()"
      ],
      "metadata": {
        "id": "r984zC4HwYUC"
      }
    },
    {
      "cell_type": "code",
      "source": [
        "#input() = A function that prompts the user to enter data, return as a string\n",
        "name = input(\"What is your name?: \")\n",
        "age = int(input(\"How old are you?: \"))\n",
        "\n",
        "age = age + 1\n",
        "#Exercise 1: Rectangle Area Calc\n",
        "length = float(input(\"Length of the Rectangle: \"))\n",
        "width = float(input(\"Width of the Rectangle: \"))\n",
        "area = length * width\n",
        "\n",
        "print(f\"Hello {name}!\")\n",
        "print(\"HAPPY BIRTHDAY!\")\n",
        "\n",
        "print(f\"You are {age} years old\")\n",
        "print(f\"Area of the Rectangle: {area}cm2\")\n",
        "#Exercise 2 Shopping Cart Program\n",
        "item = input(\"What item would you like to buy?: \")\n",
        "price = float(input(\"What is the price?: \"))\n",
        "quantity = int(input(\"How many would you like?: \"))\n",
        "total = price * quantity\n",
        "\n",
        "print(f\"You have bought {quantity} x {item}\")\n",
        "print(f\"Your total is: ${total}\")"
      ],
      "metadata": {
        "id": "sqvvF2K5ybI7",
        "outputId": "7cd2931c-4f4d-4d6e-d037-6a89224ced5b",
        "colab": {
          "base_uri": "https://localhost:8080/"
        }
      },
      "execution_count": 49,
      "outputs": [
        {
          "output_type": "stream",
          "name": "stdout",
          "text": [
            "What is your name?: Tuan Mac\n",
            "How old are you?: 20\n",
            "Length of the Rectangle: 6.1\n",
            "Width of the Rectangle: 4.5\n",
            "Hello Tuan Mac!\n",
            "HAPPY BIRTHDAY!\n",
            "You are 21 years old\n",
            "Area of the Rectangle: 27.45cm2\n",
            "What item would you like to buy?: Pizza\n",
            "What is the price?: 10.9\n",
            "How many would you like?: 3\n",
            "You have bought 3 x Pizza/s\n",
            "Your total is: $32.7\n"
          ]
        }
      ]
    },
    {
      "cell_type": "code",
      "source": [],
      "metadata": {
        "id": "Re_kd5F3ym8S"
      },
      "execution_count": 36,
      "outputs": []
    },
    {
      "cell_type": "code",
      "source": [],
      "metadata": {
        "id": "gVJa8Nzl37Ov"
      },
      "execution_count": null,
      "outputs": []
    },
    {
      "cell_type": "markdown",
      "source": [
        "# Madlibs game"
      ],
      "metadata": {
        "id": "npX-ccFx36JH"
      }
    },
    {
      "cell_type": "code",
      "source": [
        "#word game where you create a story\n",
        "#by filling in blanks with random workds\n",
        "adjective1 = input(\"Enter an adjective: \")\n",
        "noun1 = input(\"Enter a noun: \")\n",
        "adjective2 = input(\"Enter an adjective: \")\n",
        "verb1 = input(\"Enter a verb ending with 'ing'\")\n",
        "adjective3 = input(\"Enter an adjective: \")\n",
        "\n",
        "print(f\"Today I went to a {adjective1} zoo.\")\n",
        "print(f\"In an exhibit, I saw a {noun1}\")\n",
        "print(f\"{noun1} was {adjective2} and {verb1}\")\n",
        "print(f\"I was {adjective3}!\")"
      ],
      "metadata": {
        "id": "XUaQURzB4AA-",
        "outputId": "0d61b147-37ae-469d-81eb-d95ea41ad950",
        "colab": {
          "base_uri": "https://localhost:8080/"
        }
      },
      "execution_count": 50,
      "outputs": [
        {
          "output_type": "stream",
          "name": "stdout",
          "text": [
            "Enter an adjective: sweat\n",
            "Enter a noun: cake\n",
            "Enter an adjective: angry\n",
            "Enter a verb ending with 'ing'jumping\n",
            "Enter an adjective: happy\n",
            "Today I went to a sweat zoo.\n",
            "In an exhibit, I saw a cake\n",
            "cake was angry and jumping\n",
            "I was happy!\n"
          ]
        }
      ]
    },
    {
      "cell_type": "markdown",
      "source": [
        "# Arithmetic & Math"
      ],
      "metadata": {
        "id": "6LrdO1fT7Cte"
      }
    },
    {
      "cell_type": "code",
      "source": [
        "friends = 10\n",
        "#friends = friends + 1\n",
        "#friends += 1\n",
        "#friends = friends - 2\n",
        "#friends -= 2\n",
        "#friends = friends * 3\n",
        "#friends *= 3\n",
        "#friends = friends / 2\n",
        "#friends /= 2\n",
        "#friends = friends ** 2\n",
        "#friends **= 2\n",
        "remainder = friends % 2\n",
        "\n",
        "print(friends)\n",
        "print(remainder)"
      ],
      "metadata": {
        "id": "z1tgD9h95XmX",
        "outputId": "9d9ac4d7-6cd4-4b06-b86f-6d0e9371971f",
        "colab": {
          "base_uri": "https://localhost:8080/"
        }
      },
      "execution_count": 55,
      "outputs": [
        {
          "output_type": "stream",
          "name": "stdout",
          "text": [
            "10\n",
            "0\n"
          ]
        }
      ]
    },
    {
      "cell_type": "code",
      "source": [
        "x = 3.14\n",
        "y = 4.56\n",
        "z = -5\n",
        "\n",
        "round1 = round(x)\n",
        "print(round1)\n",
        "round2 = round(y)\n",
        "print(round2)\n",
        "absolute = abs(z)\n",
        "print(absolute)\n",
        "power = pow(result,result3)\n",
        "print(power)\n",
        "find_max = max(x, y, z)\n",
        "print(find_max)\n",
        "find_min = min(x, y, z)\n",
        "print(find_min)\n"
      ],
      "metadata": {
        "id": "DAfSb2VJ7Qd-",
        "outputId": "5074a4d9-43e7-44f8-d2f8-8fc4675bde5c",
        "colab": {
          "base_uri": "https://localhost:8080/"
        }
      },
      "execution_count": 65,
      "outputs": [
        {
          "output_type": "stream",
          "name": "stdout",
          "text": [
            "3\n",
            "5\n",
            "5\n",
            "243.0\n",
            "4.56\n",
            "-5\n"
          ]
        }
      ]
    },
    {
      "cell_type": "code",
      "source": [
        "import math\n",
        "x = 9.9\n",
        "\n",
        "print(math.pi)\n",
        "print(math.e)\n",
        "square_root = math.sqrt(x)\n",
        "ceil = math.ceil(x)\n",
        "floor = math.floor(x)\n",
        "\n",
        "print(square_root)\n",
        "print(ceil)\n",
        "print(floor)"
      ],
      "metadata": {
        "id": "j20yR9FF8UQz",
        "outputId": "77a59391-02fd-47cf-9ecf-38f2a9d584c3",
        "colab": {
          "base_uri": "https://localhost:8080/"
        }
      },
      "execution_count": 73,
      "outputs": [
        {
          "output_type": "stream",
          "name": "stdout",
          "text": [
            "3.141592653589793\n",
            "2.718281828459045\n",
            "3.146426544510455\n",
            "10\n",
            "9\n"
          ]
        }
      ]
    },
    {
      "cell_type": "code",
      "source": [
        "#Exercise 1:Circumference of a circle\n",
        "import math\n",
        "radius = float(input(\"Radius is: \"))\n",
        "C = 2*math.pi*radius\n",
        "\n",
        "print(f\"Circumference of a circle is {round(C, 2)}\")"
      ],
      "metadata": {
        "id": "RB8EA50V9ZCT",
        "outputId": "907762b4-e70d-4bcf-e92f-a7f0a4cbc788",
        "colab": {
          "base_uri": "https://localhost:8080/"
        }
      },
      "execution_count": 79,
      "outputs": [
        {
          "output_type": "stream",
          "name": "stdout",
          "text": [
            "Radius is: 3.3\n",
            "Circumference of a circle is 20.73\n"
          ]
        }
      ]
    },
    {
      "cell_type": "code",
      "source": [
        "#Exercise 2:Area of a circle\n",
        "import math\n",
        "radius = float(input(\"Radius is: \"))\n",
        "A = math.pi*pow(radius, 2)\n",
        "\n",
        "print(f\"Area of a circle is: {round(A, 2)}\")"
      ],
      "metadata": {
        "id": "5bU_CEA3-Wvj",
        "outputId": "deb176e2-ac19-4685-ac91-875186d3272b",
        "colab": {
          "base_uri": "https://localhost:8080/"
        }
      },
      "execution_count": 82,
      "outputs": [
        {
          "output_type": "stream",
          "name": "stdout",
          "text": [
            "Radius is: 3.6\n",
            "Area of a circle is:40.72\n"
          ]
        }
      ]
    },
    {
      "cell_type": "code",
      "source": [],
      "metadata": {
        "id": "VngwJ9XJ97Gj"
      },
      "execution_count": null,
      "outputs": []
    }
  ],
  "metadata": {
    "colab": {
      "name": "Welcome To Colab",
      "toc_visible": true,
      "provenance": [],
      "include_colab_link": true
    },
    "kernelspec": {
      "display_name": "Python 3",
      "name": "python3"
    }
  },
  "nbformat": 4,
  "nbformat_minor": 0
}